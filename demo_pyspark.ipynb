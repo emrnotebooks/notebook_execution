{
 "cells": [
  {
   "cell_type": "code",
   "execution_count": null,
   "metadata": {
    "tags": [
     "parameters"
    ]
   },
   "outputs": [],
   "source": [
    "# Input parameters\n",
    "DATE = \"10-13-2020\"\n",
    "\n",
    "TOP_K = 5\n",
    "\n",
    "US_STATES = [\"Alabama\", \"California\", \"Arizona\"]"
   ]
  },
  {
   "cell_type": "markdown",
   "metadata": {},
   "source": [
    "## Install required libraries\n",
    "\n",
    "Ref: https://aws.amazon.com/blogs/big-data/install-python-libraries-on-a-running-cluster-with-emr-notebooks/"
   ]
  },
  {
   "cell_type": "code",
   "execution_count": null,
   "metadata": {
    "papermill": {
     "duration": 27.367143,
     "end_time": "2020-08-06T16:48:39.784695",
     "exception": false,
     "start_time": "2020-08-06T16:48:12.417552",
     "status": "completed"
    },
    "tags": []
   },
   "outputs": [],
   "source": [
    "sc.install_pypi_package(\"pandas==0.25.1\")\n",
    "sc.install_pypi_package(\"requests==2.24.0\")\n",
    "sc.install_pypi_package(\"matplotlib==3.3.0\") \n",
    "sc.install_pypi_package(\"numpy==1.19.1\")"
   ]
  },
  {
   "cell_type": "markdown",
   "metadata": {},
   "source": [
    "## Load data to pandas dataframe"
   ]
  },
  {
   "cell_type": "code",
   "execution_count": null,
   "metadata": {
    "papermill": {
     "duration": 0.803973,
     "end_time": "2020-08-06T16:48:40.655842",
     "exception": false,
     "start_time": "2020-08-06T16:48:39.851869",
     "status": "completed"
    },
    "tags": []
   },
   "outputs": [],
   "source": [
    "import pandas as pd\n",
    "import io\n",
    "import requests\n",
    "\n",
    "file_name = '{}.csv'.format(DATE)\n",
    "\n",
    "url = 'https://raw.githubusercontent.com/CSSEGISandData/COVID-19/master/csse_covid_19_data/csse_covid_19_daily_reports_us/' + file_name\n",
    "print(\"reading data from: \" + url)\n",
    "\n",
    "content=requests.get(url).content\n",
    "csv = io.StringIO(content.decode('utf-8'))\n",
    "\n",
    "pandas_df=pd.read_csv(csv)"
   ]
  },
  {
   "cell_type": "markdown",
   "metadata": {},
   "source": [
    "## Sort values by confirmed cases and filter top k States"
   ]
  },
  {
   "cell_type": "code",
   "execution_count": null,
   "metadata": {},
   "outputs": [],
   "source": [
    "pandas_df.sort_values(by=['Confirmed'], inplace=True, ascending=False)\n",
    "filtered_df = pandas_df.head(TOP_K)"
   ]
  },
  {
   "cell_type": "markdown",
   "metadata": {},
   "source": [
    "## Plot the graph: Top `k` US States with confirmed covid-19 cases."
   ]
  },
  {
   "cell_type": "code",
   "execution_count": null,
   "metadata": {
    "papermill": {
     "duration": 2.483839,
     "end_time": "2020-08-06T16:48:44.427390",
     "exception": false,
     "start_time": "2020-08-06T16:48:41.943551",
     "status": "completed"
    },
    "tags": []
   },
   "outputs": [],
   "source": [
    "import matplotlib.pyplot as plt\n",
    "import numpy as np\n",
    "\n",
    "cases = filtered_df['Confirmed']\n",
    "states = filtered_df['Province_State'].values\n",
    "\n",
    "\n",
    "fig, ax = plt.subplots(figsize=(14, 12), subplot_kw=dict(aspect=\"equal\"))\n",
    "\n",
    "def func(pct, allvals):\n",
    "    absolute = int(pct/100.*np.sum(allvals))\n",
    "    return \"{:.1f}%\\n({:d})\".format(pct, absolute)\n",
    "\n",
    "wedges, texts, autotexts = ax.pie(cases, autopct=lambda pct: func(pct, cases), textprops=dict(color=\"w\"))\n",
    "\n",
    "bbox_props = dict(boxstyle=\"square,pad=0.3\", fc=\"w\", ec=\"k\", lw=0.72)\n",
    "kw = dict(arrowprops=dict(arrowstyle=\"-\"), bbox=bbox_props, zorder=0, va=\"center\")\n",
    "\n",
    "for i, p in enumerate(wedges):\n",
    "    ang = (p.theta2 - p.theta1)/2. + p.theta1\n",
    "    y = np.sin(np.deg2rad(ang))\n",
    "    x = np.cos(np.deg2rad(ang))\n",
    "    horizontalalignment = {-1: \"right\", 1: \"left\"}[int(np.sign(x))]\n",
    "    connectionstyle = \"angle,angleA=0,angleB={}\".format(ang)\n",
    "    kw[\"arrowprops\"].update({\"connectionstyle\": connectionstyle})\n",
    "    ax.annotate(states[i], xy=(x, y), xytext=(1.35*np.sign(x), 1.4*y),\n",
    "                horizontalalignment=horizontalalignment, **kw)\n",
    "\n",
    "ax.set_title(\"Covid-19 cases: Top {} US states\".format(TOP_K))\n",
    "\n",
    "%matplot plt"
   ]
  },
  {
   "cell_type": "markdown",
   "metadata": {},
   "source": [
    "## Plot the graph: Mortality rate among covid patients in specific US States."
   ]
  },
  {
   "cell_type": "code",
   "execution_count": null,
   "metadata": {},
   "outputs": [],
   "source": [
    "filtered_df = pandas_df.loc[pandas_df['Province_State'].isin(US_STATES)]\n",
    "\n",
    "ax = filtered_df.plot.bar(x='Province_State', y='Mortality_Rate', rot=0)\n",
    "ax.set_title(\"Covid-19 cases: Mortality rate for specific US states\")\n",
    "%matplot plt"
   ]
  },
  {
   "cell_type": "code",
   "execution_count": null,
   "metadata": {},
   "outputs": [],
   "source": []
  }
 ],
 "metadata": {
  "celltoolbar": "Tags",
  "kernelspec": {
   "display_name": "PySpark",
   "language": "",
   "name": "pysparkkernel"
  },
  "language_info": {
   "codemirror_mode": {
    "name": "python",
    "version": 3
   },
   "mimetype": "text/x-python",
   "name": "pyspark",
   "pygments_lexer": "python3"
  },
  "papermill": {
   "duration": null,
   "end_time": null,
   "environment_variables": {},
   "exception": null,
   "input_path": "/home/notebook/work/demo_pyspark.ipynb",
   "output_path": "/home/notebook/work/executions/ex-IZX4OZVYJJOS0HS88768X5ENSP3XY/demo_pyspark.ipynb",
   "parameters": {
    "TOP_K": 15
   },
   "start_time": "2020-08-06T16:47:44.140251",
   "version": "1.2.1"
  }
 },
 "nbformat": 4,
 "nbformat_minor": 4
}
