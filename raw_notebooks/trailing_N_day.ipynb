{
 "cells": [
  {
   "cell_type": "code",
   "execution_count": null,
   "metadata": {
    "tags": [
     "parameters"
    ]
   },
   "outputs": [],
   "source": [
    "TRAILING_N=30\n",
    "STATE=\"California\""
   ]
  },
  {
   "cell_type": "markdown",
   "metadata": {},
   "source": [
    "## Install required libraries"
   ]
  },
  {
   "cell_type": "code",
   "execution_count": null,
   "metadata": {},
   "outputs": [],
   "source": [
    "sc.install_pypi_package(\"pandas==0.25.1\")\n",
    "sc.install_pypi_package(\"requests==2.24.0\")\n",
    "sc.install_pypi_package(\"numpy==1.19.1\")\n",
    "sc.install_pypi_package(\"kiwisolver==1.2.0\")\n",
    "sc.install_pypi_package(\"matplotlib==3.3.0\") "
   ]
  },
  {
   "cell_type": "markdown",
   "metadata": {},
   "source": [
    "## Load data to pandas dataframe"
   ]
  },
  {
   "cell_type": "code",
   "execution_count": null,
   "metadata": {},
   "outputs": [],
   "source": [
    "import pandas as pd\n",
    "import io\n",
    "import requests\n",
    "from datetime import datetime, timedelta\n",
    "\n",
    "frames = []\n",
    "dates = []\n",
    "\n",
    "for delta in range(TRAILING_N, 0, -1):\n",
    "    date = (datetime.today() - timedelta(delta)).strftime('%m-%d-%Y')\n",
    "    dates.append(date)\n",
    "    file_name = date + '.csv'\n",
    "\n",
    "    url = 'https://raw.githubusercontent.com/CSSEGISandData/COVID-19/master/csse_covid_19_data/csse_covid_19_daily_reports_us/' + file_name\n",
    "\n",
    "    content=requests.get(url).content\n",
    "    csv = io.StringIO(content.decode('utf-8'))\n",
    "    tmp_frame = pd.read_csv(csv)\n",
    "    frames.append(tmp_frame.loc[tmp_frame['Province_State'] == STATE])\n",
    "    \n",
    "\n",
    "merged_df=pd.concat(frames)\n",
    "merged_df['Date'] = dates"
   ]
  },
  {
   "cell_type": "markdown",
   "metadata": {},
   "source": [
    "## Plot Confirm cases"
   ]
  },
  {
   "cell_type": "code",
   "execution_count": null,
   "metadata": {},
   "outputs": [],
   "source": [
    "import matplotlib.pyplot as plt\n",
    "import numpy as np\n",
    "from pandas.plotting import table\n",
    "\n",
    "\n",
    "ax = merged_df.plot.bar(figsize=(16, 10), x='Date', y='Confirmed', legend=True)\n",
    "\n",
    "\n",
    "table_confirmed = table(ax, np.round(merged_df['Confirmed'].describe(), 2), fontsize=12, loc='upper center', colWidths=[0.1, 0.1, 0.1])\n",
    "table_confirmed.scale(1.5, 1.5)\n",
    "\n",
    "\n",
    "\n",
    "ax.set_ylabel('Confirmed cases')\n",
    "ax.set_ylim(100000, 1200000)\n",
    "\n",
    "\n",
    "\n",
    "ax.set_title(\"Covid-19 report for {} (Trailing {} days)\".format(STATE, TRAILING_N))\n",
    "\n",
    "ax.legend(loc='upper right')\n",
    "\n",
    "\n",
    "%matplot plt"
   ]
  },
  {
   "cell_type": "code",
   "execution_count": null,
   "metadata": {},
   "outputs": [],
   "source": []
  }
 ],
 "metadata": {
  "celltoolbar": "Tags",
  "kernelspec": {
   "display_name": "PySpark",
   "language": "",
   "name": "pysparkkernel"
  },
  "language_info": {
   "codemirror_mode": {
    "name": "python",
    "version": 2
   },
   "mimetype": "text/x-python",
   "name": "pyspark",
   "pygments_lexer": "python2"
  }
 },
 "nbformat": 4,
 "nbformat_minor": 4
}
